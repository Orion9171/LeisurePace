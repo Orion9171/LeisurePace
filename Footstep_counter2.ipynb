{
 "cells": [
  {
   "cell_type": "code",
   "execution_count": 1,
   "id": "ace0c96a-7de1-4f0a-bca9-be22331d1b43",
   "metadata": {},
   "outputs": [
    {
     "name": "stderr",
     "output_type": "stream",
     "text": [
      "2023-11-29 00:50:39.522260: I tensorflow/core/platform/cpu_feature_guard.cc:182] This TensorFlow binary is optimized to use available CPU instructions in performance-critical operations.\n",
      "To enable the following instructions: AVX2 AVX512F AVX512_VNNI FMA, in other operations, rebuild TensorFlow with the appropriate compiler flags.\n",
      "INFO: Created TensorFlow Lite XNNPACK delegate for CPU.\n"
     ]
    }
   ],
   "source": [
    "import cv2\n",
    "import mediapipe as mp\n",
    "\n",
    "# Initialize MediaPipe Pose.\n",
    "mp_pose = mp.solutions.pose\n",
    "pose = mp_pose.Pose()\n",
    "\n",
    "# Initialize Video Capture\n",
    "cap = cv2.VideoCapture(0)\n",
    "\n",
    "# Variables to keep track of counting\n",
    "step_count = 0\n",
    "foot_lifted = {'left': False, 'right': False}\n",
    "\n",
    "while cap.isOpened():\n",
    "    success, image = cap.read()\n",
    "    if not success:\n",
    "        break\n",
    "\n",
    "    # Convert the image to RGB\n",
    "    image = cv2.cvtColor(image, cv2.COLOR_BGR2RGB)\n",
    "    results = pose.process(image)\n",
    "\n",
    "    # Convert back to BGR for OpenCV\n",
    "    image = cv2.cvtColor(image, cv2.COLOR_RGB2BGR)\n",
    "\n",
    "    # Draw the pose annotations on the image\n",
    "    if results.pose_landmarks:\n",
    "        mp.solutions.drawing_utils.draw_landmarks(image, results.pose_landmarks, mp_pose.POSE_CONNECTIONS)\n",
    "\n",
    "        try:\n",
    "            # Extract landmarks for both heels\n",
    "            left_heel = results.pose_landmarks.landmark[mp_pose.PoseLandmark.LEFT_HEEL]\n",
    "            right_heel = results.pose_landmarks.landmark[mp_pose.PoseLandmark.RIGHT_HEEL]\n",
    "\n",
    "            # Define a threshold for when a foot is considered \"lifted\"\n",
    "            lifted_threshold = 0.6\n",
    "\n",
    "            # Check and update for the left foot\n",
    "            if left_heel.visibility > 0.5:\n",
    "                if not foot_lifted['left'] and left_heel.y < lifted_threshold:\n",
    "                    foot_lifted['left'] = True\n",
    "                elif foot_lifted['left'] and left_heel.y > lifted_threshold:\n",
    "                    foot_lifted['left'] = False\n",
    "                    step_count += 1\n",
    "\n",
    "            # Check and update for the right foot\n",
    "            if right_heel.visibility > 0.5:\n",
    "                if not foot_lifted['right'] and right_heel.y < lifted_threshold:\n",
    "                    foot_lifted['right'] = True\n",
    "                elif foot_lifted['right'] and right_heel.y > lifted_threshold:\n",
    "                    foot_lifted['right'] = False\n",
    "                    step_count += 1\n",
    "\n",
    "        except IndexError:\n",
    "            pass\n",
    "\n",
    "    # Display the step count\n",
    "    cv2.putText(image, f'Steps: {step_count}', (50, 50), cv2.FONT_HERSHEY_SIMPLEX, 1, (255, 255, 255), 2, cv2.LINE_AA)\n",
    "\n",
    "    # Show the image\n",
    "    cv2.imshow('Run in Place Counter', image)\n",
    "\n",
    "    # exit the program by pressing \"q\" on the keyboard\n",
    "    if cv2.waitKey(10) & 0xFF == ord('q'):\n",
    "        break\n",
    "cap.release()\n",
    "cv2.destroyAllWindows()\n"
   ]
  },
  {
   "cell_type": "code",
   "execution_count": null,
   "id": "238dc001-080e-4b2b-8587-815e1513726d",
   "metadata": {},
   "outputs": [],
   "source": []
  },
  {
   "cell_type": "code",
   "execution_count": null,
   "id": "98768372-f13c-4889-880f-b4d86cee7974",
   "metadata": {},
   "outputs": [],
   "source": []
  }
 ],
 "metadata": {
  "kernelspec": {
   "display_name": "Python 3 (ipykernel)",
   "language": "python",
   "name": "python3"
  },
  "language_info": {
   "codemirror_mode": {
    "name": "ipython",
    "version": 3
   },
   "file_extension": ".py",
   "mimetype": "text/x-python",
   "name": "python",
   "nbconvert_exporter": "python",
   "pygments_lexer": "ipython3",
   "version": "3.8.18"
  }
 },
 "nbformat": 4,
 "nbformat_minor": 5
}
