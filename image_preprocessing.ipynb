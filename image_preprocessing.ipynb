{
 "cells": [
  {
   "cell_type": "code",
   "execution_count": 1,
   "id": "ad4a2f8c-671e-4d27-91e0-8036f645ad9e",
   "metadata": {},
   "outputs": [],
   "source": [
    "import cv2\n",
    "import PIL\n",
    "from PIL import Image\n",
    "import glob\n",
    "import numpy as np\n",
    "import shutil,os\n",
    "from time import sleep"
   ]
  },
  {
   "cell_type": "code",
   "execution_count": 16,
   "id": "cd04323c-0229-41b7-be71-6ffd0fc6a5cc",
   "metadata": {},
   "outputs": [],
   "source": [
    "# resize image\n",
    "'''\n",
    "def dirResize(src,dst):\n",
    "    myFile = glob.glob(src+'/*.jpg')\n",
    "    os.mkdir(dst)\n",
    "    print(src + '資料夾:')\n",
    "    print('開始轉換圖片尺寸...')\n",
    "    for i ,f in enumerate(myFile):\n",
    "        img = Image.open(f)\n",
    "        img_new = img.resize((300,225), PIL.Image.Resampling.LANCZOS)\n",
    "        outname = str('resizejpg')+str('{:>3d}').format(i+1)+'.jpg'\n",
    "        img_new.save(dst+'/'+outname)\n",
    "    print('轉換完成\\n')\n",
    "'''"
   ]
  },
  {
   "cell_type": "code",
   "execution_count": 17,
   "id": "30459fb1",
   "metadata": {},
   "outputs": [
    {
     "name": "stdout",
     "output_type": "stream",
     "text": [
      "/Users/zhangbinghan/run_project/test_images2資料夾:\n",
      "開始轉換圖片尺寸...\n",
      "轉換完成\n",
      "\n"
     ]
    }
   ],
   "source": [
    "# execute resize function\n",
    "#dirResize('/Users/zhangbinghan/run_project/test_images2','OutputImages')"
   ]
  },
  {
   "cell_type": "code",
   "execution_count": 36,
   "id": "8244bfcd",
   "metadata": {},
   "outputs": [
    {
     "name": "stdout",
     "output_type": "stream",
     "text": [
      "開始轉換！\n",
      "轉換圖形格式結束\n"
     ]
    }
   ],
   "source": [
    "#turn img from jpg to bmp\n",
    "'''\n",
    "files = glob.glob(\"OutputImages/*.jpg\")\n",
    "print(\"開始轉換！\")\n",
    "for i in files:\n",
    "    namesplit = i.split(\"\\\\\")\n",
    "    img = Image.open(i)\n",
    "    outname = namesplit[0].replace('resizejpg','bmpraw')\n",
    "    outname = outname.replace('.jpg','.bmp')\n",
    "    img.save('/Users/zhangbinghan/run_project/'+outname,'bmp')\n",
    "    os.remove(i)\n",
    "print('轉換圖形格式結束')\n",
    "'''"
   ]
  },
  {
   "cell_type": "code",
   "execution_count": 6,
   "id": "28caf510-d981-42d7-bc94-0d45fc907665",
   "metadata": {},
   "outputs": [
    {
     "name": "stdout",
     "output_type": "stream",
     "text": [
      "開始轉換尺寸...\n",
      "尺寸及灰階轉換結束！\n"
     ]
    }
   ],
   "source": [
    "#test_images2_nagative preprocessing\n",
    "'''\n",
    "myfiles = glob.glob(\"/Users/zhangbinghan/run_project/test_images2/*.jpg\")\n",
    "os.mkdir('test_images2_negative')\n",
    "print('開始轉換尺寸...')\n",
    "for i,e in enumerate(myfiles):\n",
    "    img = Image.open(e)\n",
    "    img_new = img.resize((500,375),PIL.Image.LANCZOS)\n",
    "    img_new = img_new.convert('L')\n",
    "    outname = str('negGray')+str('{:0>3d}').format(i+1)+'.jpg'\n",
    "    img_new.save('/Users/zhangbinghan/run_project/test_images2_negative/'+outname)\n",
    "print('尺寸及灰階轉換結束！')\n",
    "'''"
   ]
  }
 ],
 "metadata": {
  "kernelspec": {
   "display_name": "Python 3 (ipykernel)",
   "language": "python",
   "name": "python3"
  },
  "language_info": {
   "codemirror_mode": {
    "name": "ipython",
    "version": 3
   },
   "file_extension": ".py",
   "mimetype": "text/x-python",
   "name": "python",
   "nbconvert_exporter": "python",
   "pygments_lexer": "ipython3",
   "version": "3.8.18"
  }
 },
 "nbformat": 4,
 "nbformat_minor": 5
}
