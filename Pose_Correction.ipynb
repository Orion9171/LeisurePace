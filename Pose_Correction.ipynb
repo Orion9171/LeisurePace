{
 "cells": [
  {
   "cell_type": "markdown",
   "id": "1fe24d8c-13a3-4e61-87da-2d0ca882ff1a",
   "metadata": {},
   "source": [
    "# Import dependencies"
   ]
  },
  {
   "cell_type": "code",
   "execution_count": 2,
   "id": "d8c2bf05-039a-4a03-9aec-37f36cac4d5a",
   "metadata": {},
   "outputs": [
    {
     "name": "stdout",
     "output_type": "stream",
     "text": [
      "Intel MKL WARNING: Support of Intel(R) Streaming SIMD Extensions 4.2 (Intel(R) SSE4.2) enabled only processors has been deprecated. Intel oneAPI Math Kernel Library 2025.0 will require Intel(R) Advanced Vector Extensions (Intel(R) AVX) instructions.\n",
      "Intel MKL WARNING: Support of Intel(R) Streaming SIMD Extensions 4.2 (Intel(R) SSE4.2) enabled only processors has been deprecated. Intel oneAPI Math Kernel Library 2025.0 will require Intel(R) Advanced Vector Extensions (Intel(R) AVX) instructions.\n"
     ]
    },
    {
     "name": "stderr",
     "output_type": "stream",
     "text": [
      "2024-01-29 23:17:59.309484: I tensorflow/core/platform/cpu_feature_guard.cc:182] This TensorFlow binary is optimized to use available CPU instructions in performance-critical operations.\n",
      "To enable the following instructions: SSE4.1 SSE4.2, in other operations, rebuild TensorFlow with the appropriate compiler flags.\n"
     ]
    }
   ],
   "source": [
    "import numpy as np\n",
    "import mediapipe as mp\n",
    "import cv2\n",
    "from collections import deque"
   ]
  },
  {
   "cell_type": "markdown",
   "id": "394aa716-d96f-4b13-9b79-ecea6314ef6a",
   "metadata": {},
   "source": [
    "# Calculate angles"
   ]
  },
  {
   "cell_type": "code",
   "execution_count": 3,
   "id": "403defd9-cad0-42eb-8aeb-ae140704287f",
   "metadata": {},
   "outputs": [],
   "source": [
    "def calculate_angle(a, b, c):\n",
    "    a = np.array(a)  # First\n",
    "    b = np.array(b)  # Mid\n",
    "    c = np.array(c)  # End\n",
    "    radians = np.arctan2(c[1]-b[1], c[0]-b[0]) - np.arctan2(a[1]-b[1], a[0]-b[0])\n",
    "    angle = np.abs(radians*180.0/np.pi)\n",
    "    if angle > 180.0:\n",
    "        angle = 360-angle\n",
    "    return angle"
   ]
  },
  {
   "cell_type": "markdown",
   "id": "d9a4358c-7da2-4700-968f-c3d9a2562c1a",
   "metadata": {},
   "source": [
    "# Calculate distance"
   ]
  },
  {
   "cell_type": "code",
   "execution_count": 4,
   "id": "31e48297-7a79-4457-966a-a842f3bdeddb",
   "metadata": {},
   "outputs": [],
   "source": [
    "def calculate_distance(a, b):\n",
    "    a = np.array(a)\n",
    "    b = np.array(b)\n",
    "    return np.linalg.norm(a - b)"
   ]
  },
  {
   "cell_type": "markdown",
   "id": "9ae98ce3-9ae9-46ce-ae62-63dbf622d889",
   "metadata": {},
   "source": [
    "# Pose Correction"
   ]
  },
  {
   "cell_type": "code",
   "execution_count": 5,
   "id": "b2ed78d3-835f-4a6d-9d3b-0912d64d2cb0",
   "metadata": {},
   "outputs": [
    {
     "name": "stderr",
     "output_type": "stream",
     "text": [
      "INFO: Created TensorFlow Lite XNNPACK delegate for CPU.\n"
     ]
    }
   ],
   "source": [
    "# Draw skeletons\n",
    "mp_pose = mp.solutions.pose\n",
    "pose = mp_pose.Pose()"
   ]
  },
  {
   "cell_type": "code",
   "execution_count": 8,
   "id": "b9f472cc-7a41-4564-a6b8-cd2dedeca0e5",
   "metadata": {},
   "outputs": [],
   "source": [
    "# Start detecting\n",
    "# Initialize deque (double-ended queue) for tracking wrist positions\n",
    "num_frames_to_analyze = 30  # Number of frames to consider for movement analysis\n",
    "left_wrist_positions = deque(maxlen=num_frames_to_analyze)\n",
    "right_wrist_positions = deque(maxlen=num_frames_to_analyze)\n",
    "cap = cv2.VideoCapture(0)\n",
    "while cap.isOpened():\n",
    "    ret,frame = cap.read()\n",
    "    if not ret:\n",
    "        continue\n",
    "    frame_rgb = cv2.cvtColor(frame, cv2.COLOR_BGR2RGB)\n",
    "    results = pose.process(frame_rgb)\n",
    "    if results.pose_landmarks:\n",
    "        landmarks = results.pose_landmarks.landmark\n",
    "         # Get wrist positions\n",
    "        left_wrist = [landmarks[mp_pose.PoseLandmark.LEFT_WRIST.value].x, \n",
    "                      landmarks[mp_pose.PoseLandmark.LEFT_WRIST.value].y]\n",
    "        right_wrist = [landmarks[mp_pose.PoseLandmark.RIGHT_WRIST.value].x, \n",
    "                       landmarks[mp_pose.PoseLandmark.RIGHT_WRIST.value].y]\n",
    "        # Update wrist positions history\n",
    "        left_wrist_positions.append(left_wrist)\n",
    "        right_wrist_positions.append(right_wrist)\n",
    "        # Define relevant landmarks for conditions\n",
    "\n",
    "        shoulder_left = [landmarks[mp_pose.PoseLandmark.LEFT_SHOULDER.value].x, \n",
    "                         landmarks[mp_pose.PoseLandmark.LEFT_SHOULDER.value].y]\n",
    "        shoulder_right = [landmarks[mp_pose.PoseLandmark.RIGHT_SHOULDER.value].x, \n",
    "                          landmarks[mp_pose.PoseLandmark.RIGHT_SHOULDER.value].y]\n",
    "        hip_left = [landmarks[mp_pose.PoseLandmark.LEFT_HIP.value].x, \n",
    "                    landmarks[mp_pose.PoseLandmark.LEFT_HIP.value].y]\n",
    "        hip_right = [landmarks[mp_pose.PoseLandmark.RIGHT_HIP.value].x, \n",
    "                     landmarks[mp_pose.PoseLandmark.RIGHT_HIP.value].y]\n",
    "        knee_left = [landmarks[mp_pose.PoseLandmark.LEFT_KNEE.value].x, \n",
    "                     landmarks[mp_pose.PoseLandmark.LEFT_KNEE.value].y]\n",
    "        knee_right = [landmarks[mp_pose.PoseLandmark.RIGHT_KNEE.value].x, \n",
    "                      landmarks[mp_pose.PoseLandmark.RIGHT_KNEE.value].y]\n",
    "        nose = [landmarks[mp_pose.PoseLandmark.NOSE.value].x, \n",
    "                landmarks[mp_pose.PoseLandmark.NOSE.value].y]\n",
    "        # Check for hunchback\n",
    "        shoulder_hip_angle = calculate_angle(nose, shoulder_left, hip_left)\n",
    "        if shoulder_hip_angle < 150 or shoulder_hip_angle > 200 :  \n",
    "            cv2.putText(frame, 'Straighten your back and lift your head up', (10, 30), cv2.FONT_HERSHEY_SIMPLEX, 1, (0, 0, 255), 2, cv2.LINE_AA)\n",
    "        # Check for feet lifting\n",
    "        if knee_left[1] - hip_left[1] > 0.05 and knee_right[1] - hip_right[1] > 0.05:  \n",
    "            cv2.putText(frame, 'Lift your feet higher', (10, 60), cv2.FONT_HERSHEY_SIMPLEX, 1, (0, 0, 255), 2, cv2.LINE_AA)\n",
    "        # Check for arm swing\n",
    "        if len(left_wrist_positions) == num_frames_to_analyze:\n",
    "            # Calculate movement for left and right wrists\n",
    "            left_movement = sum([calculate_distance(left_wrist_positions[i], left_wrist_positions[i-1]) for i in range(1, num_frames_to_analyze)])\n",
    "            right_movement = sum([calculate_distance(right_wrist_positions[i], right_wrist_positions[i-1]) for i in range(1, num_frames_to_analyze)])\n",
    "            # Define thresholds for movement \n",
    "            min_movement_threshold = 0.1\n",
    "            max_movement_threshold = 0.5\n",
    "            # Check if the movement is within the expected range\n",
    "            if left_movement < min_movement_threshold or right_movement < min_movement_threshold:\n",
    "                cv2.putText(frame, 'Swing your arms more', (10, 120), cv2.FONT_HERSHEY_SIMPLEX, 1, (0, 0, 255), 2, cv2.LINE_AA)\n",
    "            elif left_movement > max_movement_threshold or right_movement > max_movement_threshold:\n",
    "                cv2.putText(frame, 'Reduce arm swing', (10, 150), cv2.FONT_HERSHEY_SIMPLEX, 1, (0, 0, 255), 2, cv2.LINE_AA)\n",
    "    mp.solutions.drawing_utils.draw_landmarks(frame, results.pose_landmarks, mp_pose.POSE_CONNECTIONS)\n",
    "    cv2.imshow('Run in Place Pose Correction', frame)\n",
    "    if cv2.waitKey(10) & 0xFF == ord('q'):\n",
    "        break\n",
    "cap.release()\n",
    "cv2.destroyAllWindows()"
   ]
  },
  {
   "cell_type": "code",
   "execution_count": null,
   "id": "0e3651b6-0fc4-458e-ab2a-1c135f956e71",
   "metadata": {},
   "outputs": [],
   "source": []
  }
 ],
 "metadata": {
  "kernelspec": {
   "display_name": "Python 3 (ipykernel)",
   "language": "python",
   "name": "python3"
  },
  "language_info": {
   "codemirror_mode": {
    "name": "ipython",
    "version": 3
   },
   "file_extension": ".py",
   "mimetype": "text/x-python",
   "name": "python",
   "nbconvert_exporter": "python",
   "pygments_lexer": "ipython3",
   "version": "3.11.3"
  }
 },
 "nbformat": 4,
 "nbformat_minor": 5
}
