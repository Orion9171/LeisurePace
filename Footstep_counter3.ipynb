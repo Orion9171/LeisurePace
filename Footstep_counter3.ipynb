{
 "cells": [
  {
   "cell_type": "markdown",
   "id": "080b401b-2bd8-4033-b38a-8a6015535590",
   "metadata": {},
   "source": [
    "# Import Dependencies"
   ]
  },
  {
   "cell_type": "code",
   "execution_count": 2,
   "id": "c13218ff-b2db-4958-8d04-6af8a854f262",
   "metadata": {},
   "outputs": [
    {
     "name": "stderr",
     "output_type": "stream",
     "text": [
      "2023-12-07 06:37:37.861810: I tensorflow/core/platform/cpu_feature_guard.cc:182] This TensorFlow binary is optimized to use available CPU instructions in performance-critical operations.\n",
      "To enable the following instructions: AVX2 AVX512F AVX512_VNNI FMA, in other operations, rebuild TensorFlow with the appropriate compiler flags.\n"
     ]
    }
   ],
   "source": [
    "import cv2\n",
    "import mediapipe as mp\n",
    "import numpy as np\n",
    "mp_drawing = mp.solutions.drawing_utils\n",
    "mp_pose = mp.solutions.pose"
   ]
  },
  {
   "cell_type": "markdown",
   "id": "71603389-5b83-444c-b6ea-788aa9bfde1a",
   "metadata": {},
   "source": [
    "# Calculate Angles"
   ]
  },
  {
   "cell_type": "code",
   "execution_count": 3,
   "id": "4eac21bc-41ab-450b-a9c5-d28f7c38751c",
   "metadata": {},
   "outputs": [],
   "source": [
    "# Function to calculate the angle between three points\n",
    "def calculate_angle(a, b, c):\n",
    "    a = np.array(a)  # First\n",
    "    b = np.array(b)  # Mid\n",
    "    c = np.array(c)  # End\n",
    "\n",
    "    radians = np.arctan2(c[1] - b[1], c[0] - b[0]) - np.arctan2(a[1] - b[1], a[0] - b[0])\n",
    "    angle = np.abs(radians * 180.0 / np.pi)\n",
    "\n",
    "    if angle > 180.0:\n",
    "        angle = 360 - angle\n",
    "\n",
    "    return angle"
   ]
  },
  {
   "cell_type": "markdown",
   "id": "e86c8dc4-9392-414c-adab-076b3a16a428",
   "metadata": {},
   "source": [
    "# Step Counter"
   ]
  },
  {
   "cell_type": "code",
   "execution_count": 4,
   "id": "196700db-7b9e-48b5-975c-e91ff3118651",
   "metadata": {},
   "outputs": [
    {
     "name": "stderr",
     "output_type": "stream",
     "text": [
      "INFO: Created TensorFlow Lite XNNPACK delegate for CPU.\n"
     ]
    }
   ],
   "source": [
    "# Initialize mediapipe and camera\n",
    "mp_pose = mp.solutions.pose\n",
    "mp_drawing = mp.solutions.drawing_utils\n",
    "cap = cv2.VideoCapture(0)\n",
    "\n",
    "counter = 0\n",
    "stage = None\n",
    "STAGE_DOWN = 'DOWN'\n",
    "STAGE_UP = 'UP'\n",
    "r_stage = STAGE_DOWN\n",
    "l_stage = STAGE_DOWN\n",
    "\n",
    "with mp_pose.Pose(min_detection_confidence=0.5, min_tracking_confidence=0.5) as pose:\n",
    "    while cap.isOpened():\n",
    "        ret, frame = cap.read()\n",
    "        if not ret:\n",
    "            continue\n",
    "\n",
    "        image = cv2.cvtColor(frame, cv2.COLOR_BGR2RGB)\n",
    "        image.flags.writeable = False\n",
    "        results = pose.process(image)\n",
    "        image.flags.writeable = True\n",
    "        image = cv2.cvtColor(image, cv2.COLOR_RGB2BGR)\n",
    "\n",
    "        try:\n",
    "            landmarks = results.pose_landmarks.landmark\n",
    "\n",
    "            # Extracting landmarks for shoulder, hip, and knee\n",
    "            l_shoulder = [landmarks[mp_pose.PoseLandmark.LEFT_SHOULDER.value].x,\n",
    "                          landmarks[mp_pose.PoseLandmark.LEFT_SHOULDER.value].y]\n",
    "            l_hip = [landmarks[mp_pose.PoseLandmark.LEFT_HIP.value].x,\n",
    "                     landmarks[mp_pose.PoseLandmark.LEFT_HIP.value].y]\n",
    "            l_knee = [landmarks[mp_pose.PoseLandmark.LEFT_KNEE.value].x,\n",
    "                      landmarks[mp_pose.PoseLandmark.LEFT_KNEE.value].y]\n",
    "\n",
    "            r_shoulder = [landmarks[mp_pose.PoseLandmark.RIGHT_SHOULDER.value].x,\n",
    "                          landmarks[mp_pose.PoseLandmark.RIGHT_SHOULDER.value].y]\n",
    "            r_hip = [landmarks[mp_pose.PoseLandmark.RIGHT_HIP.value].x,\n",
    "                     landmarks[mp_pose.PoseLandmark.RIGHT_HIP.value].y]\n",
    "            r_knee = [landmarks[mp_pose.PoseLandmark.RIGHT_KNEE.value].x,\n",
    "                      landmarks[mp_pose.PoseLandmark.RIGHT_KNEE.value].y]\n",
    "\n",
    "            # Calculate angles\n",
    "            l_angle = calculate_angle(l_shoulder, l_hip, l_knee)\n",
    "            r_angle = calculate_angle(r_shoulder, r_hip, r_knee)\n",
    "\n",
    "            # Step counter logic based on the shoulder-hip-knee angle\n",
    "            if stage == None:\n",
    "                if l_angle < 160 and l_stage == STAGE_DOWN:\n",
    "                    l_stage = STAGE_UP\n",
    "                    stage = STAGE_UP\n",
    "                if r_angle < 160 and r_stage == STAGE_DOWN:\n",
    "                    r_stage = STAGE_UP\n",
    "                    stage = STAGE_UP\n",
    "            elif stage == STAGE_UP:\n",
    "                if l_angle >= 170 and l_stage == STAGE_UP:\n",
    "                    l_stage = STAGE_DOWN\n",
    "                    stage = None\n",
    "                    counter += 1\n",
    "                if r_angle >= 170 and r_stage == STAGE_UP:\n",
    "                    r_stage = STAGE_DOWN\n",
    "                    stage = None\n",
    "                    counter += 1\n",
    "\n",
    "        except AttributeError:\n",
    "            pass\n",
    "\n",
    "        # Draw landmarks and connections\n",
    "        mp_drawing.draw_landmarks(image, results.pose_landmarks, mp_pose.POSE_CONNECTIONS)\n",
    "\n",
    "        # Display step count\n",
    "        cv2.rectangle(image, (0, 0), (225, 73), (245, 117, 16), -1)\n",
    "        cv2.putText(image, 'STEPS', (15, 12), cv2.FONT_HERSHEY_SIMPLEX, 0.5, (0, 0, 0), 1, cv2.LINE_AA)\n",
    "        cv2.putText(image, str(counter), (10, 60), cv2.FONT_HERSHEY_SIMPLEX, 2, (255, 255, 255), 2, cv2.LINE_AA)\n",
    "\n",
    "        cv2.imshow('Step Counter', image)\n",
    "        if cv2.waitKey(10) & 0xFF == ord('q'):\n",
    "            break\n",
    "        if cv2.waitKey(10) & 0xFF == ord('r'):\n",
    "            counter = 0\n",
    "            prev_ankle_y = {'left': None, 'right': None}\n",
    "\n",
    "cap.release()\n",
    "cv2.destroyAllWindows()"
   ]
  },
  {
   "cell_type": "code",
   "execution_count": null,
   "id": "15044166-4e1b-4b85-80f1-25062700cc8c",
   "metadata": {},
   "outputs": [],
   "source": []
  },
  {
   "cell_type": "code",
   "execution_count": null,
   "id": "758aaa0c-4ef3-46e8-843e-8e06101866ec",
   "metadata": {},
   "outputs": [],
   "source": []
  }
 ],
 "metadata": {
  "kernelspec": {
   "display_name": "Python 3 (ipykernel)",
   "language": "python",
   "name": "python3"
  },
  "language_info": {
   "codemirror_mode": {
    "name": "ipython",
    "version": 3
   },
   "file_extension": ".py",
   "mimetype": "text/x-python",
   "name": "python",
   "nbconvert_exporter": "python",
   "pygments_lexer": "ipython3",
   "version": "3.8.18"
  }
 },
 "nbformat": 4,
 "nbformat_minor": 5
}
